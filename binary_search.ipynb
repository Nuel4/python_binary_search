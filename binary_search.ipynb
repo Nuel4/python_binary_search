{
 "cells": [
  {
   "cell_type": "code",
   "execution_count": null,
   "metadata": {},
   "outputs": [],
   "source": [
    "ps = - 1  # counting position\n",
    "\n",
    "\n",
    "def binary(lst, x):         # list of variable and the item to be searched\n",
    "    low = 0                     # lower bound\n",
    "    upp = len(lst) - 1              # length of the list (-1) counting from 0\n",
    "\n",
    "    while low <= upp:                  # lower bound should be less than the upper bound since the position is starting from 0\n",
    "        mid = (low + upp) // 2                # add lower bound position which 0 + the lenghtof the list and divid by 2\n",
    "\n",
    "        if lst[mid] == x:                   # if mid position is == x (the item being searched)\n",
    "            globals()['ps'] = mid                 # pos = the position\n",
    "            return True                             # return confirm\n",
    "        else:                                       # if lst[miid] is not equal or same item being looked for\n",
    "            if lst[mid] < x:                         # midpint value is less than the item\n",
    "                low = mid                              # lower bound should be equal to mid\n",
    "            else:\n",
    "                upp = mid                                 # x,the item is greater than mid point, upper bound should be equal to mid\n",
    "\n",
    "\n",
    "lst = [10, 25, 58, 12, 56, 14, 29]\n",
    "x = 14\n",
    "if binary(lst, x):\n",
    "    print(x, ' is available at :', ps)\n",
    "\n",
    "else:\n",
    "    print('item not found')"
   ]
  },
  {
   "cell_type": "code",
   "execution_count": null,
   "metadata": {},
   "outputs": [],
   "source": []
  }
 ],
 "metadata": {
  "kernelspec": {
   "display_name": "Python 3",
   "language": "python",
   "name": "python3"
  },
  "language_info": {
   "codemirror_mode": {
    "name": "ipython",
    "version": 3
   },
   "file_extension": ".py",
   "mimetype": "text/x-python",
   "name": "python",
   "nbconvert_exporter": "python",
   "pygments_lexer": "ipython3",
   "version": "3.7.3"
  }
 },
 "nbformat": 4,
 "nbformat_minor": 2
}
